{
  "nbformat": 4,
  "nbformat_minor": 0,
  "metadata": {
    "colab": {
      "name": "data_analysis.ipynb",
      "provenance": [],
      "collapsed_sections": [],
      "machine_shape": "hm"
    },
    "kernelspec": {
      "name": "python3",
      "display_name": "Python 3"
    },
    "accelerator": "GPU"
  },
  "cells": [
    {
      "cell_type": "markdown",
      "metadata": {
        "id": "nA0bpOWYm2vy",
        "colab_type": "text"
      },
      "source": [
        "# **Exploratory Data Analysis**"
      ]
    },
    {
      "cell_type": "markdown",
      "metadata": {
        "id": "V4hV9zijgC-m",
        "colab_type": "text"
      },
      "source": [
        "## **Import libraries**"
      ]
    },
    {
      "cell_type": "code",
      "metadata": {
        "id": "DIFrz3nsI4Jq",
        "colab_type": "code",
        "colab": {}
      },
      "source": [
        "# import numpy\n",
        "import numpy as np\n",
        "\n",
        "# import pandas\n",
        "import pandas as pd\n",
        "\n",
        "# import matplotlib\n",
        "import matplotlib.pyplot as plt\n",
        "from matplotlib.pyplot import imshow\n",
        "\n",
        "# import zipfile for unzipping the data\n",
        "import zipfile\n",
        "\n",
        "# import csv to access the csv files\n",
        "import csv\n",
        "\n",
        "# import drive to access the data from GDrive\n",
        "from google.colab import drive\n",
        "\n",
        "# import seaborn\n",
        "import seaborn as sns\n",
        "\n",
        "import os"
      ],
      "execution_count": null,
      "outputs": []
    },
    {
      "cell_type": "markdown",
      "metadata": {
        "id": "EB9Vd__tgIWM",
        "colab_type": "text"
      },
      "source": [
        "## **Mount Google Drive**"
      ]
    },
    {
      "cell_type": "code",
      "metadata": {
        "id": "yV3CPBkpJVLw",
        "colab_type": "code",
        "colab": {}
      },
      "source": [
        "drive.mount('/content/drive/', force_remount=True)"
      ],
      "execution_count": null,
      "outputs": []
    },
    {
      "cell_type": "markdown",
      "metadata": {
        "id": "4bPgUXgbgNNj",
        "colab_type": "text"
      },
      "source": [
        "## **Load CSV file**"
      ]
    },
    {
      "cell_type": "code",
      "metadata": {
        "id": "L220b60AqCV-",
        "colab_type": "code",
        "colab": {}
      },
      "source": [
        "driver_details = pd.read_csv('/content/drive/My Drive/Dataset/driver_imgs_list.csv', na_values='na')"
      ],
      "execution_count": null,
      "outputs": []
    },
    {
      "cell_type": "code",
      "metadata": {
        "id": "b2Cx4L-sqXr9",
        "colab_type": "code",
        "colab": {}
      },
      "source": [
        "driver_details.head(5)"
      ],
      "execution_count": null,
      "outputs": []
    },
    {
      "cell_type": "markdown",
      "metadata": {
        "id": "-MrXKtqjgi6T",
        "colab_type": "text"
      },
      "source": [
        "## **Display Statistics**"
      ]
    },
    {
      "cell_type": "markdown",
      "metadata": {
        "id": "cCyYJBK2gThl",
        "colab_type": "text"
      },
      "source": [
        "#### **Display the number of images associated with each subject (driver id)**"
      ]
    },
    {
      "cell_type": "code",
      "metadata": {
        "id": "5rSzvOl7fVAW",
        "colab_type": "code",
        "colab": {}
      },
      "source": [
        "driver_count = driver_details['subject'].value_counts()"
      ],
      "execution_count": null,
      "outputs": []
    },
    {
      "cell_type": "code",
      "metadata": {
        "id": "sWP0ww1bfZR2",
        "colab_type": "code",
        "colab": {}
      },
      "source": [
        "driver_count"
      ],
      "execution_count": null,
      "outputs": []
    },
    {
      "cell_type": "markdown",
      "metadata": {
        "id": "jyGO3mhsgrGc",
        "colab_type": "text"
      },
      "source": [
        "## **Visualize the statistics for subjects in dataset**"
      ]
    },
    {
      "cell_type": "code",
      "metadata": {
        "id": "1MWPj9nqMPvV",
        "colab_type": "code",
        "colab": {}
      },
      "source": [
        "driver_count = driver_details['subject'].value_counts().plot(kind = 'bar',\n",
        "                                                            figsize=(20,12), title = \"Number of images per subject\")\n",
        "driver_count.set_xlabel(\"Driver ID\")\n",
        "driver_count.set_ylabel(\"Count\")"
      ],
      "execution_count": null,
      "outputs": []
    },
    {
      "cell_type": "markdown",
      "metadata": {
        "id": "lJ42bzSrg_PZ",
        "colab_type": "text"
      },
      "source": [
        "## **Split the subjects for training and validation**"
      ]
    },
    {
      "cell_type": "code",
      "metadata": {
        "id": "LmJuGmqRotlT",
        "colab_type": "code",
        "colab": {}
      },
      "source": [
        "# Choosing driver id for training data\n",
        "training_drivers = driver_details[['subject','classname','img']][driver_details['subject'].isin(['p015', 'p050', 'p056', 'p022'])==False]"
      ],
      "execution_count": null,
      "outputs": []
    },
    {
      "cell_type": "code",
      "metadata": {
        "id": "oqJW65SmsHsy",
        "colab_type": "code",
        "colab": {}
      },
      "source": [
        "pd.DataFrame(training_drivers, columns=['subject','classname','img'])"
      ],
      "execution_count": null,
      "outputs": []
    },
    {
      "cell_type": "markdown",
      "metadata": {
        "id": "cHrMMI2nhsa6",
        "colab_type": "text"
      },
      "source": [
        "## **Displaying the statistics for subjects in training data**"
      ]
    },
    {
      "cell_type": "markdown",
      "metadata": {
        "id": "8CXfqUpphy9K",
        "colab_type": "text"
      },
      "source": [
        "### **Visualize the statistics for subjects in training data**"
      ]
    },
    {
      "cell_type": "code",
      "metadata": {
        "id": "Wy-qQ_eDCof2",
        "colab_type": "code",
        "colab": {}
      },
      "source": [
        "training_drivers = training_drivers['subject'].value_counts().plot(kind = 'bar',\n",
        "                                                            figsize=(20,12), title = \"Number of images per subject\", color='orange')\n",
        "training_drivers.set_xlabel(\"Training Driver ID\")\n",
        "training_drivers.set_ylabel(\"Count\")"
      ],
      "execution_count": null,
      "outputs": []
    },
    {
      "cell_type": "code",
      "metadata": {
        "id": "oWFD3_pQEaDE",
        "colab_type": "code",
        "colab": {}
      },
      "source": [
        "validation_drivers = driver_details[['subject','classname','img']][driver_details['subject'].isin(['p015', 'p050', 'p056', 'p022'])==True]"
      ],
      "execution_count": null,
      "outputs": []
    },
    {
      "cell_type": "code",
      "metadata": {
        "id": "5K5qw0JlEXPE",
        "colab_type": "code",
        "colab": {}
      },
      "source": [
        "pd.DataFrame(validation_drivers, columns=['subject','classname','img'])"
      ],
      "execution_count": null,
      "outputs": []
    },
    {
      "cell_type": "markdown",
      "metadata": {
        "id": "Tfm83sfZiC6j",
        "colab_type": "text"
      },
      "source": [
        "## **Displaying the statistics for subjects in training data**"
      ]
    },
    {
      "cell_type": "markdown",
      "metadata": {
        "id": "C7PlyfQPiNTS",
        "colab_type": "text"
      },
      "source": [
        "### **Visualize the statistics for subjects in validation data**"
      ]
    },
    {
      "cell_type": "code",
      "metadata": {
        "id": "gjTiqhLgEWYb",
        "colab_type": "code",
        "colab": {}
      },
      "source": [
        "validation_drivers = validation_drivers['subject'].value_counts().plot(kind = 'bar',\n",
        "                                                            figsize=(12,8), title = \"Number of images per subject\", color='red')\n",
        "validation_drivers.set_xlabel(\"Validation Driver ID\")\n",
        "validation_drivers.set_ylabel(\"Count\")"
      ],
      "execution_count": null,
      "outputs": []
    },
    {
      "cell_type": "markdown",
      "metadata": {
        "id": "i8pYsfxviQ3B",
        "colab_type": "text"
      },
      "source": [
        "## **Loading the dataset**"
      ]
    },
    {
      "cell_type": "code",
      "metadata": {
        "id": "hZS48WzrFKOu",
        "colab_type": "code",
        "colab": {}
      },
      "source": [
        "training_dir = '/content/drive/My Drive/Dataset/train'\n",
        "validation_dir = '/content/drive/My Drive/Dataset/validation'"
      ],
      "execution_count": null,
      "outputs": []
    },
    {
      "cell_type": "markdown",
      "metadata": {
        "id": "p0lAD77niXKe",
        "colab_type": "text"
      },
      "source": [
        "### **Identifying the number of images in training and validation data**"
      ]
    },
    {
      "cell_type": "code",
      "metadata": {
        "id": "IPrH1VmLFei2",
        "colab_type": "code",
        "colab": {}
      },
      "source": [
        "training_images = sum(len(files) for _, _, files in os.walk(training_dir))\n",
        "validation_images = sum(len(files) for _, _, files in os.walk(validation_dir))"
      ],
      "execution_count": null,
      "outputs": []
    },
    {
      "cell_type": "code",
      "metadata": {
        "id": "MUPnHDBCFv2-",
        "colab_type": "code",
        "colab": {}
      },
      "source": [
        "print(\"Number of Training images: \" + str(training_images))\n",
        "print(\"Number of Validation images: \" + str(validation_images))"
      ],
      "execution_count": null,
      "outputs": []
    },
    {
      "cell_type": "code",
      "metadata": {
        "id": "pQc_R0c7Gcx4",
        "colab_type": "code",
        "colab": {}
      },
      "source": [
        "categories = [c for c in os.listdir(training_dir)]\n",
        "num_class = len(categories)\n",
        "train_categories = [len(os.listdir(training_dir + \"/\" + c)) for c in os.listdir(training_dir)]\n",
        "val_categories = [len(os.listdir(validation_dir + \"/\" + c)) for c in os.listdir(validation_dir)]"
      ],
      "execution_count": null,
      "outputs": []
    },
    {
      "cell_type": "code",
      "metadata": {
        "id": "XdpIEl1BHGwR",
        "colab_type": "code",
        "colab": {}
      },
      "source": [
        "print(\"Classes in dataset:\", categories)\n",
        "print(\"Number of classes:\",num_class)\n",
        "print(\"Number of images in each class for training data:\", train_categories)\n",
        "print(\"Number of images in each class for validation data:\", val_categories)"
      ],
      "execution_count": null,
      "outputs": []
    },
    {
      "cell_type": "markdown",
      "metadata": {
        "id": "mS3W8aTSi4I6",
        "colab_type": "text"
      },
      "source": [
        "## **Statistics of training data**"
      ]
    },
    {
      "cell_type": "code",
      "metadata": {
        "id": "mRnk_h0-IC-q",
        "colab_type": "code",
        "colab": {}
      },
      "source": [
        "num_train_images = pd.DataFrame(list(zip(categories, train_categories)), columns =['class', 'count'])"
      ],
      "execution_count": null,
      "outputs": []
    },
    {
      "cell_type": "code",
      "metadata": {
        "id": "z-srduBUIMfJ",
        "colab_type": "code",
        "colab": {}
      },
      "source": [
        "print(num_train_images)"
      ],
      "execution_count": null,
      "outputs": []
    },
    {
      "cell_type": "markdown",
      "metadata": {
        "id": "FJaeht0Mi9XK",
        "colab_type": "text"
      },
      "source": [
        "## **Statistics of validation data**"
      ]
    },
    {
      "cell_type": "code",
      "metadata": {
        "id": "g1c1boqAX3A_",
        "colab_type": "code",
        "colab": {}
      },
      "source": [
        "num_val_images = pd.DataFrame(list(zip(categories, val_categories)), columns =['class', 'count'])"
      ],
      "execution_count": null,
      "outputs": []
    },
    {
      "cell_type": "code",
      "metadata": {
        "id": "54clxuRHX8jx",
        "colab_type": "code",
        "colab": {}
      },
      "source": [
        "print(num_val_images)"
      ],
      "execution_count": null,
      "outputs": []
    },
    {
      "cell_type": "markdown",
      "metadata": {
        "id": "e4jMGeXijATu",
        "colab_type": "text"
      },
      "source": [
        "## **Visualizing the number of images after train-validation split**"
      ]
    },
    {
      "cell_type": "markdown",
      "metadata": {
        "id": "sw8F55a0jJ2k",
        "colab_type": "text"
      },
      "source": [
        "### **Visualizing the statistics of all classes in training data**"
      ]
    },
    {
      "cell_type": "code",
      "metadata": {
        "id": "PEPdPFV3RNvr",
        "colab_type": "code",
        "colab": {}
      },
      "source": [
        "labels = categories\n",
        "x = np.arange(len(labels))\n",
        "width = 0.6\n",
        "\n",
        "fig, ax = plt.subplots()\n",
        "fig.set_size_inches(16, 10)\n",
        "\n",
        "box1 = ax.bar(x, train_categories, width, label='Training')\n",
        "    \n",
        "ax.set_ylabel('Number of Images')\n",
        "ax.set_xlabel('Categories')\n",
        "ax.set_title('Statistics of Training Images')\n",
        "#ax.set_facecolor('cyan')\n",
        "ax.set_xticks(x)\n",
        "ax.set_xticklabels(labels)\n",
        "ax.legend\n",
        "\n",
        "def labelnumber(boxes):\n",
        "  for box in boxes:\n",
        "    height = box.get_height()\n",
        "    ax.annotate('{}'.format(height),\n",
        "                xy=(box.get_x() + box.get_width() / 2, height),\n",
        "                xytext=(0,2),\n",
        "                textcoords=\"offset points\",\n",
        "                ha='center', va='bottom')\n",
        "\n",
        "plt.minorticks_on()\n",
        "plt.ylim(0,2400)\n",
        "\n",
        "labelnumber(box1)\n",
        "plt.show()"
      ],
      "execution_count": null,
      "outputs": []
    },
    {
      "cell_type": "markdown",
      "metadata": {
        "id": "lmKkholgjVKX",
        "colab_type": "text"
      },
      "source": [
        "### **Visualizing the statistics of all classes in validation data**"
      ]
    },
    {
      "cell_type": "code",
      "metadata": {
        "id": "M8xivYY5TlI-",
        "colab_type": "code",
        "colab": {}
      },
      "source": [
        "labels = categories\n",
        "x = np.arange(len(labels))\n",
        "width = 0.6\n",
        "\n",
        "fig, ax = plt.subplots()\n",
        "fig.set_size_inches(16, 10)\n",
        "\n",
        "box2 = ax.bar(x, val_categories, width, label='Validation', color='green')\n",
        "    \n",
        "ax.set_ylabel('Number of Images')\n",
        "ax.set_xlabel('Categories')\n",
        "ax.set_title('Statistics of Validation Images')\n",
        "#ax.set_facecolor('cyan')\n",
        "ax.set_xticks(x)\n",
        "ax.set_xticklabels(labels)\n",
        "ax.legend\n",
        "\n",
        "\n",
        "plt.minorticks_on()\n",
        "plt.ylim(0,500)\n",
        "\n",
        "labelnumber(box2)\n",
        "plt.show()"
      ],
      "execution_count": null,
      "outputs": []
    }
  ]
}